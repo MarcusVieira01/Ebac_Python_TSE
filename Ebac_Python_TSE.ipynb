{
  "nbformat": 4,
  "nbformat_minor": 0,
  "metadata": {
    "colab": {
      "provenance": [],
      "authorship_tag": "ABX9TyNbG9FmXdcyLHLO0ZfLK2OR",
      "include_colab_link": true
    },
    "kernelspec": {
      "name": "python3",
      "display_name": "Python 3"
    },
    "language_info": {
      "name": "python"
    }
  },
  "cells": [
    {
      "cell_type": "markdown",
      "metadata": {
        "id": "view-in-github",
        "colab_type": "text"
      },
      "source": [
        "<a href=\"https://colab.research.google.com/github/MarcusVieira01/Ebac_Python_TSE/blob/main/Ebac_Python_TSE.ipynb\" target=\"_parent\"><img src=\"https://colab.research.google.com/assets/colab-badge.svg\" alt=\"Open In Colab\"/></a>"
      ]
    },
    {
      "cell_type": "markdown",
      "source": [
        "# **Aula 1: Contexto e objetivo**\n",
        "\n",
        "\n",
        "\n"
      ],
      "metadata": {
        "id": "5ftR7toXzhxD"
      }
    },
    {
      "cell_type": "markdown",
      "source": [
        "## **Análise de dados disponibilizados oficialmente pelo TSE:**\n",
        "O TSE fez a liberação de alguns dados sobre cada urna eleitoral usada em 2022. Temos 3 tipos de dados para cada urna:\n",
        "\n",
        "- **RDV:** Registro Digital do Voto contendo o registro unitário de votos por urna e grupo (Presidente e Governador no caso do 2º Turno);\n",
        "- **Boletim de Urna:** Dado agregado por candidato;\n",
        "- **LOG de Urna:** Eventos temporais de todas as ações específicas da urna;\n",
        "\n",
        "A documentação é disposta no site do [TSE](https://www.tse.jus.br/eleicoes/eleicoes-2022/documentacao-tecnica-do-software-da-urna-eletronica).\n",
        "\n",
        "## **Seleção dos dados:**\n",
        "Para termos acesso aos 3 arquivos, devemos selecionar o local desejado (Estado e município), a Zona e a Seção Eleitoral. Inicialmente são exibidos os valores dos arquivos formatados em página HTML, mas podemos baixar os arquivos brutos.\n",
        "\n",
        "## **Objetivo**:\n",
        "Usar o Python para analisar o arquivo RDV e replicar os dados obtidos pelo TSE, fazendo uma validação dos dados disponibilizados via site e via arquivo. Os dados serão cruzados com o Boletim de Urna também, para uma validação cruzada.\n",
        "\n",
        "## **Exemplo de uso da célula de código:**\n",
        "\n",
        "\n"
      ],
      "metadata": {
        "id": "esO7Dlq00INg"
      }
    },
    {
      "cell_type": "code",
      "source": [
        "print(\"Olá Mundo!\")"
      ],
      "metadata": {
        "colab": {
          "base_uri": "https://localhost:8080/"
        },
        "id": "XWxzzKuC616H",
        "outputId": "7cf72749-d264-4214-e0cf-4820ca1d6dba"
      },
      "execution_count": 3,
      "outputs": [
        {
          "output_type": "stream",
          "name": "stdout",
          "text": [
            "Olá Mundo!\n"
          ]
        }
      ]
    },
    {
      "cell_type": "markdown",
      "source": [
        "# Aula 2: Exploração"
      ],
      "metadata": {
        "id": "pW-QgM4f6-qW"
      }
    },
    {
      "cell_type": "markdown",
      "source": [
        "## Teste"
      ],
      "metadata": {
        "id": "PoErJaoY7DbD"
      }
    }
  ]
}