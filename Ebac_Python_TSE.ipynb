{
  "nbformat": 4,
  "nbformat_minor": 0,
  "metadata": {
    "colab": {
      "provenance": [],
      "toc_visible": true,
      "authorship_tag": "ABX9TyPCsCiRKCt42WTDG2gAAE4B",
      "include_colab_link": true
    },
    "kernelspec": {
      "name": "python3",
      "display_name": "Python 3"
    },
    "language_info": {
      "name": "python"
    }
  },
  "cells": [
    {
      "cell_type": "markdown",
      "metadata": {
        "id": "view-in-github",
        "colab_type": "text"
      },
      "source": [
        "<a href=\"https://colab.research.google.com/github/MarcusVieira01/Ebac_Python_TSE/blob/main/Ebac_Python_TSE.ipynb\" target=\"_parent\"><img src=\"https://colab.research.google.com/assets/colab-badge.svg\" alt=\"Open In Colab\"/></a>"
      ]
    },
    {
      "cell_type": "markdown",
      "source": [
        "# **Aula 1: Contexto e objetivo**\n",
        "\n",
        "\n",
        "\n"
      ],
      "metadata": {
        "id": "5ftR7toXzhxD"
      }
    },
    {
      "cell_type": "markdown",
      "source": [
        "## **Objetivo**:\n",
        "Usar o Python para analisar o arquivo RDV e replicar os dados obtidos pelo TSE, fazendo uma validação dos dados disponibilizados via site e via arquivo. Os dados serão cruzados com o Boletim de Urna também, para uma validação cruzada.\n",
        "\n",
        "Os dados utilizados será o arquivo RDV com os dados dos votos para presidente no segundo turno."
      ],
      "metadata": {
        "id": "VE_itD2pW4vy"
      }
    },
    {
      "cell_type": "markdown",
      "source": [
        "## **Análise de dados disponibilizados oficialmente pelo TSE:**\n",
        "O TSE fez a liberação de alguns dados sobre cada urna eleitoral usada em 2022. Temos 3 tipos de dados para cada urna:\n",
        "\n",
        "- **RDV:** Registro Digital do Voto contendo o registro unitário de votos por urna e grupo (Presidente e Governador no caso do 2º Turno);\n",
        "- **Boletim de Urna:** Dado agregado por candidato;\n",
        "- **LOG de Urna:** Eventos temporais de todas as ações específicas da urna;\n",
        "\n",
        "A documentação é disposta no site do [TSE](https://www.tse.jus.br/eleicoes/eleicoes-2022/documentacao-tecnica-do-software-da-urna-eletronica).\n",
        "\n",
        "\n",
        "\n",
        "\n"
      ],
      "metadata": {
        "id": "esO7Dlq00INg"
      }
    },
    {
      "cell_type": "markdown",
      "source": [
        "## **Seleção dos dados:**\n",
        "Para termos acesso aos 3 arquivos, devemos selecionar o local desejado (Estado e município), a Zona e a Seção Eleitoral. Inicialmente são exibidos os valores dos arquivos formatados em página HTML, mas podemos baixar os arquivos brutos.\n"
      ],
      "metadata": {
        "id": "XrCdbBLOW0Mr"
      }
    },
    {
      "cell_type": "markdown",
      "source": [
        "## **Exemplo de uso da célula de código:**"
      ],
      "metadata": {
        "id": "ghc3FesoWnFU"
      }
    },
    {
      "cell_type": "code",
      "source": [
        "print(\"Olá Mundo!\")"
      ],
      "metadata": {
        "colab": {
          "base_uri": "https://localhost:8080/"
        },
        "id": "XWxzzKuC616H",
        "outputId": "7cf72749-d264-4214-e0cf-4820ca1d6dba"
      },
      "execution_count": 3,
      "outputs": [
        {
          "output_type": "stream",
          "name": "stdout",
          "text": [
            "Olá Mundo!\n"
          ]
        }
      ]
    },
    {
      "cell_type": "markdown",
      "source": [
        "# **Aula 2: Exploração**"
      ],
      "metadata": {
        "id": "pW-QgM4f6-qW"
      }
    },
    {
      "cell_type": "markdown",
      "source": [
        "## **Upload de arquivo RDV:**\n",
        "Faremos o upload no Google Colab do arquivo RDV extraído do site do TSE.\n",
        "\n",
        "## **Criptografia do arquivo RDV**\n",
        "O arquivo baixado está criptografado, havendo necessidade de usarmos uma chave para descriptografar.\n",
        "\n",
        "Para tal descriptografia, usaremos os comandos abaixo:\n",
        "\n",
        "- Código de descrptografia:\n"
      ],
      "metadata": {
        "id": "PoErJaoY7DbD"
      }
    },
    {
      "cell_type": "code",
      "source": [
        "!curl -s https://raw.githubusercontent.com/andre-marcos-perez/ebac-course-utils/develop/notebooks/2022_11_29/rdv.py -o rdv.py"
      ],
      "metadata": {
        "id": "5gIqIfByMpTE"
      },
      "execution_count": 4,
      "outputs": []
    },
    {
      "cell_type": "markdown",
      "source": [
        "- Instalação do pacote de criptografia para o Python:"
      ],
      "metadata": {
        "id": "J1uxS1IeNB8S"
      }
    },
    {
      "cell_type": "code",
      "source": [
        "!pip install asn1crypto==1.5.1"
      ],
      "metadata": {
        "colab": {
          "base_uri": "https://localhost:8080/"
        },
        "id": "WPskd8alNGvH",
        "outputId": "b3357dbc-0c10-4aee-a85c-0f7e4e6d0c89"
      },
      "execution_count": 5,
      "outputs": [
        {
          "output_type": "stream",
          "name": "stdout",
          "text": [
            "Looking in indexes: https://pypi.org/simple, https://us-python.pkg.dev/colab-wheels/public/simple/\n",
            "Collecting asn1crypto==1.5.1\n",
            "  Downloading asn1crypto-1.5.1-py2.py3-none-any.whl (105 kB)\n",
            "\u001b[K     |████████████████████████████████| 105 kB 6.0 MB/s \n",
            "\u001b[?25hInstalling collected packages: asn1crypto\n",
            "Successfully installed asn1crypto-1.5.1\n"
          ]
        }
      ]
    },
    {
      "cell_type": "markdown",
      "source": [
        "- Executar a descriptogravia via comando abaixo, usando o nome do arquivo baixado Será gerado um novo arquivo extensão .txt:"
      ],
      "metadata": {
        "id": "5_kwx-zkNJy4"
      }
    },
    {
      "cell_type": "code",
      "source": [
        "!python rdv.py -r o00407-7107204180257.rdv > rdv.txt"
      ],
      "metadata": {
        "colab": {
          "base_uri": "https://localhost:8080/"
        },
        "id": "5wo_yjpzNO7W",
        "outputId": "5de4c67c-3692-4b48-8b5b-9d35e920cba0"
      },
      "execution_count": 6,
      "outputs": [
        {
          "output_type": "stream",
          "name": "stdout",
          "text": [
            "2022-12-14 01:25:36,094 - INFO - Converte RDV o00407-7107204180257.rdv\n"
          ]
        }
      ]
    },
    {
      "cell_type": "code",
      "source": [],
      "metadata": {
        "id": "5jxf-Vs0PgsN"
      },
      "execution_count": null,
      "outputs": []
    },
    {
      "cell_type": "markdown",
      "source": [
        "O arquivo RDV não está organizado por ordem de voto, pois faz parte dos requisitos o voto ser anônimo e sua sequencia é misturada conforme o algoritmo da urna.\n"
      ],
      "metadata": {
        "id": "zibwZM99Pzzi"
      }
    },
    {
      "cell_type": "markdown",
      "source": [
        "## **Limpeza do arquivo RDV:**\n",
        "Precisamos remover os caracteres indesejados do arquivo rdv.txt para que possamos realizar a análise. No caso serão removidos todos os dados que não forem sobre os dados de Presidente.\n",
        "\n",
        "Usaremos o código abaixo para realizar a limpeza:"
      ],
      "metadata": {
        "id": "yGCNe57EQnS1"
      }
    },
    {
      "cell_type": "code",
      "source": [
        "#Declaração de array content que conterá os dados extraídos\n",
        "content = []\n",
        "\n",
        "#Abertura do arquivo rdv.txt, no modo de leitura e com alias fp. Via loop for, será lida linha por \n",
        "#linha e comparado via condicional. Se o condicional for true, ou seja, chegar no trecho de \n",
        "# governador, o loop será encerrado. Enquanto false, cada linha será incluída no array\n",
        "with open(file=\"rdv.txt\", mode=\"r\") as fp:\n",
        "  for line in fp.readlines():\n",
        "    if \"Governador\" in line:\n",
        "      break\n",
        "    else:\n",
        "      content.append(line) \n",
        "\n",
        "#Exibe de forma concatenada a quantidade de elementos do array content\n",
        "print(str(len(content)) + \" elementos\")\n",
        "\n",
        "#Exibe os 10 primeiros elementos do array content\n",
        "for line in content[0:10]:\n",
        "    print(line)"
      ],
      "metadata": {
        "colab": {
          "base_uri": "https://localhost:8080/"
        },
        "id": "NJOIl0a1Q_Yw",
        "outputId": "25553a54-8664-4957-fcb4-f76f0055e461"
      },
      "execution_count": 9,
      "outputs": [
        {
          "output_type": "stream",
          "name": "stdout",
          "text": [
            "334 elementos\n",
            "========================================\n",
            "\n",
            "----------------------------------------\n",
            "\n",
            "Presidente\n",
            "\n",
            "  1 - nominal  - [13]\n",
            "\n",
            "  2 - nominal  - [13]\n",
            "\n",
            "  3 - nominal  - [13]\n",
            "\n",
            "  4 - nominal  - [13]\n",
            "\n",
            "  5 - nominal  - [13]\n",
            "\n",
            "  6 - nominal  - [13]\n",
            "\n",
            "  7 - nominal  - [13]\n",
            "\n"
          ]
        }
      ]
    },
    {
      "cell_type": "markdown",
      "source": [
        "## **Extração:**##\n",
        "A extração dá-se usando uma forma de parse, que seria via palavra chave. Se a linha contiver a palavra desejada, será incluído um elemento no array declarado com o dicionário abaixo:\n",
        "```\n",
        "{\"voto\" : \"palavra_desejada\", \"quantidade\" : 1}\n",
        "```\n",
        "Há uma exceção quando o voto é nominal, pois haverá um tratamento para qual candidato o voto foi incluído.\n",
        "\n",
        "Script de limpeza:\n"
      ],
      "metadata": {
        "id": "Iyyzw0dPS6jz"
      }
    },
    {
      "cell_type": "code",
      "source": [
        "#Importação da biblioteca de REGEX re\n",
        "import re\n",
        "\n",
        "#Definição de pattern REGEX para que consiga ler o candidato do arquivo rdv.txt\n",
        "pattern = re.compile(pattern=\"\\[(.*?)\\]\")\n",
        "\n",
        "#Declaração de array\n",
        "votes = []\n",
        "\n",
        "#Loop for que para cada elemento do array content, será realizado o condicional simples sequencial\n",
        "for line in content:\n",
        "    #Condicional que true, será incluído o elemento abaixo, definindo um voto branco\n",
        "    if \"branco\" in line:\n",
        "        votes.append({\"voto\":\"branco\", \"quantidade\":1})\n",
        "    #Condicional que true, será incluído o elemento abaixo, definindo um voto nulo\n",
        "    if \"nulo\" in line:\n",
        "        votes.append({\"voto\":\"nulo\", \"quantidade\":1})\n",
        "    #Condicional que true, será incluído o elemento abaixo, definindo um voto em candidato e será\n",
        "    #evocado o método .findall(padrão, string) do objeto re, e atribuído o índice 0 do array de \n",
        "    #à variável vote. Será evocado o método append, que fará a inclusão do elemento no array votes\n",
        "    # do dicionario declarado\n",
        "    if \"nominal\" in line:\n",
        "        vote = re.findall(pattern=pattern, string=line)[0]\n",
        "        votes.append({\"voto\": f\"{vote}\", \"quantidade\":1})\n",
        "\n",
        "#Será exibido de forma concatenada a quantidade de votos parseados\n",
        "print(str(len(votes)) + \" votos\")\n",
        "\n",
        "#Serão exibidos os 10 primeiros votos\n",
        "for vote in votes[0:10]:\n",
        "  print(vote)\n"
      ],
      "metadata": {
        "colab": {
          "base_uri": "https://localhost:8080/"
        },
        "id": "iFDW5UqvTz1F",
        "outputId": "f3950ec2-eb25-484f-bb4d-390b96b94dc3"
      },
      "execution_count": 12,
      "outputs": [
        {
          "output_type": "stream",
          "name": "stdout",
          "text": [
            "330 votos\n",
            "{'voto': '13', 'quantidade': 1}\n",
            "{'voto': '13', 'quantidade': 1}\n",
            "{'voto': '13', 'quantidade': 1}\n",
            "{'voto': '13', 'quantidade': 1}\n",
            "{'voto': '13', 'quantidade': 1}\n",
            "{'voto': '13', 'quantidade': 1}\n",
            "{'voto': '13', 'quantidade': 1}\n",
            "{'voto': '13', 'quantidade': 1}\n",
            "{'voto': '13', 'quantidade': 1}\n",
            "{'voto': '13', 'quantidade': 1}\n"
          ]
        }
      ]
    }
  ]
}