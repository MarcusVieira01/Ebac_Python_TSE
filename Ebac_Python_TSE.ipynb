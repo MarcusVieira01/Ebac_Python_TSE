{
  "nbformat": 4,
  "nbformat_minor": 0,
  "metadata": {
    "colab": {
      "provenance": [],
      "collapsed_sections": [
        "5ftR7toXzhxD"
      ],
      "authorship_tag": "ABX9TyM351oOpjBCKa+Tee4YMNz5",
      "include_colab_link": true
    },
    "kernelspec": {
      "name": "python3",
      "display_name": "Python 3"
    },
    "language_info": {
      "name": "python"
    }
  },
  "cells": [
    {
      "cell_type": "markdown",
      "metadata": {
        "id": "view-in-github",
        "colab_type": "text"
      },
      "source": [
        "<a href=\"https://colab.research.google.com/github/MarcusVieira01/Ebac_Python_TSE/blob/main/Ebac_Python_TSE.ipynb\" target=\"_parent\"><img src=\"https://colab.research.google.com/assets/colab-badge.svg\" alt=\"Open In Colab\"/></a>"
      ]
    },
    {
      "cell_type": "markdown",
      "source": [
        "# **Aula 1: Contexto e objetivo**\n",
        "\n",
        "\n",
        "\n"
      ],
      "metadata": {
        "id": "5ftR7toXzhxD"
      }
    },
    {
      "cell_type": "markdown",
      "source": [
        "## **Objetivo**:\n",
        "Usar o Python para analisar o arquivo RDV e replicar os dados obtidos pelo TSE, fazendo uma validação dos dados disponibilizados via site e via arquivo. Os dados serão cruzados com o Boletim de Urna também, para uma validação cruzada.\n",
        "\n",
        "Os dados utilizados será o arquivo RDV com os dados dos votos para presidente no segundo turno."
      ],
      "metadata": {
        "id": "VE_itD2pW4vy"
      }
    },
    {
      "cell_type": "markdown",
      "source": [
        "## **Análise de dados disponibilizados oficialmente pelo TSE:**\n",
        "O TSE fez a liberação de alguns dados sobre cada urna eleitoral usada em 2022. Temos 3 tipos de dados para cada urna:\n",
        "\n",
        "- **RDV:** Registro Digital do Voto contendo o registro unitário de votos por urna e grupo (Presidente e Governador no caso do 2º Turno);\n",
        "- **Boletim de Urna:** Dado agregado por candidato;\n",
        "- **LOG de Urna:** Eventos temporais de todas as ações específicas da urna;\n",
        "\n",
        "A documentação é disposta no site do [TSE](https://www.tse.jus.br/eleicoes/eleicoes-2022/documentacao-tecnica-do-software-da-urna-eletronica).\n",
        "\n",
        "\n",
        "\n",
        "\n"
      ],
      "metadata": {
        "id": "esO7Dlq00INg"
      }
    },
    {
      "cell_type": "markdown",
      "source": [
        "## **Seleção dos dados:**\n",
        "Para termos acesso aos 3 arquivos, devemos selecionar o local desejado (Estado e município), a Zona e a Seção Eleitoral. Inicialmente são exibidos os valores dos arquivos formatados em página HTML, mas podemos baixar os arquivos brutos.\n"
      ],
      "metadata": {
        "id": "XrCdbBLOW0Mr"
      }
    },
    {
      "cell_type": "markdown",
      "source": [
        "## **Exemplo de uso da célula de código:**"
      ],
      "metadata": {
        "id": "ghc3FesoWnFU"
      }
    },
    {
      "cell_type": "code",
      "source": [
        "print(\"Olá Mundo!\")"
      ],
      "metadata": {
        "colab": {
          "base_uri": "https://localhost:8080/"
        },
        "id": "XWxzzKuC616H",
        "outputId": "d0d1f6f5-e0f8-4c08-b37c-1175abe37a88"
      },
      "execution_count": 1,
      "outputs": [
        {
          "output_type": "stream",
          "name": "stdout",
          "text": [
            "Olá Mundo!\n"
          ]
        }
      ]
    },
    {
      "cell_type": "markdown",
      "source": [
        "# **Aula 2: Exploração**"
      ],
      "metadata": {
        "id": "pW-QgM4f6-qW"
      }
    },
    {
      "cell_type": "markdown",
      "source": [
        "## **Upload de arquivo RDV:**\n",
        "Faremos o upload no Google Colab do arquivo RDV extraído do site do TSE.\n",
        "\n",
        "## **Criptografia do arquivo RDV**\n",
        "O arquivo baixado está criptografado, havendo necessidade de usarmos uma chave para descriptografar.\n",
        "\n",
        "Para tal descriptografia, usaremos os comandos abaixo:\n",
        "\n",
        "- Código de descrptografia:\n"
      ],
      "metadata": {
        "id": "PoErJaoY7DbD"
      }
    },
    {
      "cell_type": "code",
      "source": [
        "!curl -s https://raw.githubusercontent.com/andre-marcos-perez/ebac-course-utils/develop/notebooks/2022_11_29/rdv.py -o rdv.py"
      ],
      "metadata": {
        "id": "5gIqIfByMpTE"
      },
      "execution_count": 2,
      "outputs": []
    },
    {
      "cell_type": "markdown",
      "source": [
        "- Instalação do pacote de criptografia para o Python:"
      ],
      "metadata": {
        "id": "J1uxS1IeNB8S"
      }
    },
    {
      "cell_type": "code",
      "source": [
        "!pip install asn1crypto==1.5.1"
      ],
      "metadata": {
        "colab": {
          "base_uri": "https://localhost:8080/"
        },
        "id": "WPskd8alNGvH",
        "outputId": "b9ad4325-5271-4265-dff6-1e39eedcf81d"
      },
      "execution_count": 3,
      "outputs": [
        {
          "output_type": "stream",
          "name": "stdout",
          "text": [
            "Looking in indexes: https://pypi.org/simple, https://us-python.pkg.dev/colab-wheels/public/simple/\n",
            "Collecting asn1crypto==1.5.1\n",
            "  Downloading asn1crypto-1.5.1-py2.py3-none-any.whl (105 kB)\n",
            "\u001b[K     |████████████████████████████████| 105 kB 31.6 MB/s \n",
            "\u001b[?25hInstalling collected packages: asn1crypto\n",
            "Successfully installed asn1crypto-1.5.1\n"
          ]
        }
      ]
    },
    {
      "cell_type": "markdown",
      "source": [
        "- Executar a descriptogravia via comando abaixo, usando o nome do arquivo baixado Será gerado um novo arquivo extensão .txt:"
      ],
      "metadata": {
        "id": "5_kwx-zkNJy4"
      }
    },
    {
      "cell_type": "code",
      "source": [
        "!python rdv.py -r o00407-7107204180257.rdv > rdv.txt"
      ],
      "metadata": {
        "colab": {
          "base_uri": "https://localhost:8080/"
        },
        "id": "5wo_yjpzNO7W",
        "outputId": "2e12b3d5-e4fa-43bd-f5aa-938bde015392"
      },
      "execution_count": 4,
      "outputs": [
        {
          "output_type": "stream",
          "name": "stdout",
          "text": [
            "2022-12-15 00:06:00,357 - INFO - Converte RDV o00407-7107204180257.rdv\n"
          ]
        }
      ]
    },
    {
      "cell_type": "code",
      "source": [],
      "metadata": {
        "id": "5jxf-Vs0PgsN"
      },
      "execution_count": 4,
      "outputs": []
    },
    {
      "cell_type": "markdown",
      "source": [
        "O arquivo RDV não está organizado por ordem de voto, pois faz parte dos requisitos o voto ser anônimo e sua sequencia é misturada conforme o algoritmo da urna.\n"
      ],
      "metadata": {
        "id": "zibwZM99Pzzi"
      }
    },
    {
      "cell_type": "markdown",
      "source": [
        "## **Limpeza do arquivo RDV:**\n",
        "Precisamos remover os caracteres indesejados do arquivo rdv.txt para que possamos realizar a análise. No caso serão removidos todos os dados que não forem sobre os dados de Presidente.\n",
        "\n",
        "Usaremos o código abaixo para realizar a limpeza:"
      ],
      "metadata": {
        "id": "yGCNe57EQnS1"
      }
    },
    {
      "cell_type": "code",
      "source": [
        "#Declaração de array content que conterá os dados extraídos\n",
        "content = []\n",
        "\n",
        "#Abertura do arquivo rdv.txt, no modo de leitura e com alias fp. Via loop for, será lida linha por \n",
        "#linha e comparado via condicional. Se o condicional for true, ou seja, chegar no trecho de \n",
        "# governador, o loop será encerrado. Enquanto false, cada linha será incluída no array\n",
        "with open(file=\"rdv.txt\", mode=\"r\") as fp:\n",
        "  for line in fp.readlines():\n",
        "    if \"Governador\" in line:\n",
        "      break\n",
        "    else:\n",
        "      content.append(line) \n",
        "\n",
        "#Exibe de forma concatenada a quantidade de elementos do array content\n",
        "print(str(len(content)) + \" elementos\")\n",
        "\n",
        "#Exibe os 10 primeiros elementos do array content\n",
        "for line in content[0:10]:\n",
        "    print(line)"
      ],
      "metadata": {
        "colab": {
          "base_uri": "https://localhost:8080/"
        },
        "id": "NJOIl0a1Q_Yw",
        "outputId": "c692043a-e862-468f-d6fe-bdc496da3391"
      },
      "execution_count": 5,
      "outputs": [
        {
          "output_type": "stream",
          "name": "stdout",
          "text": [
            "334 elementos\n",
            "========================================\n",
            "\n",
            "----------------------------------------\n",
            "\n",
            "Presidente\n",
            "\n",
            "  1 - nominal  - [13]\n",
            "\n",
            "  2 - nominal  - [13]\n",
            "\n",
            "  3 - nominal  - [13]\n",
            "\n",
            "  4 - nominal  - [13]\n",
            "\n",
            "  5 - nominal  - [13]\n",
            "\n",
            "  6 - nominal  - [13]\n",
            "\n",
            "  7 - nominal  - [13]\n",
            "\n"
          ]
        }
      ]
    },
    {
      "cell_type": "markdown",
      "source": [
        "## **Extração:**##\n",
        "A extração dá-se usando uma forma de parse, que seria via palavra chave. Se a linha contiver a palavra desejada, será incluído um elemento no array declarado com o dicionário abaixo:\n",
        "```\n",
        "{\"voto\" : \"palavra_desejada\", \"quantidade\" : 1}\n",
        "```\n",
        "Há uma exceção quando o voto é nominal, pois haverá um tratamento para qual candidato o voto foi incluído.\n",
        "\n",
        "Script de limpeza:\n"
      ],
      "metadata": {
        "id": "Iyyzw0dPS6jz"
      }
    },
    {
      "cell_type": "code",
      "source": [
        "#Importação da biblioteca de REGEX re\n",
        "import re\n",
        "\n",
        "#Definição de pattern REGEX para que consiga ler o candidato do arquivo rdv.txt\n",
        "pattern = re.compile(pattern=\"\\[(.*?)\\]\")\n",
        "\n",
        "#Declaração de array\n",
        "votes = []\n",
        "\n",
        "#Loop for que para cada elemento do array content, será realizado o condicional simples sequencial\n",
        "for line in content:\n",
        "    #Condicional que true, será incluído o elemento abaixo, definindo um voto branco\n",
        "    if \"branco\" in line:\n",
        "        votes.append({\"voto\":\"branco\", \"quantidade\":1})\n",
        "    #Condicional que true, será incluído o elemento abaixo, definindo um voto nulo\n",
        "    if \"nulo\" in line:\n",
        "        votes.append({\"voto\":\"nulo\", \"quantidade\":1})\n",
        "    #Condicional que true, será incluído o elemento abaixo, definindo um voto em candidato e será\n",
        "    #evocado o método .findall(padrão, string) do objeto re, e atribuído o índice 0 do array de \n",
        "    #à variável vote. Será evocado o método append, que fará a inclusão do elemento no array votes\n",
        "    # do dicionario declarado\n",
        "    if \"nominal\" in line:\n",
        "        vote = re.findall(pattern=pattern, string=line)[0]\n",
        "        votes.append({\"voto\": f\"{vote}\", \"quantidade\":1})\n",
        "\n",
        "#Será exibido de forma concatenada a quantidade de votos parseados\n",
        "print(str(len(votes)) + \" votos\")\n",
        "\n",
        "#Serão exibidos os 10 primeiros votos\n",
        "for vote in votes[0:10]:\n",
        "  print(vote)\n"
      ],
      "metadata": {
        "colab": {
          "base_uri": "https://localhost:8080/"
        },
        "id": "iFDW5UqvTz1F",
        "outputId": "a91ccb50-c669-47ac-b1c0-5307dad73456"
      },
      "execution_count": 6,
      "outputs": [
        {
          "output_type": "stream",
          "name": "stdout",
          "text": [
            "330 votos\n",
            "{'voto': '13', 'quantidade': 1}\n",
            "{'voto': '13', 'quantidade': 1}\n",
            "{'voto': '13', 'quantidade': 1}\n",
            "{'voto': '13', 'quantidade': 1}\n",
            "{'voto': '13', 'quantidade': 1}\n",
            "{'voto': '13', 'quantidade': 1}\n",
            "{'voto': '13', 'quantidade': 1}\n",
            "{'voto': '13', 'quantidade': 1}\n",
            "{'voto': '13', 'quantidade': 1}\n",
            "{'voto': '13', 'quantidade': 1}\n"
          ]
        }
      ]
    },
    {
      "cell_type": "markdown",
      "source": [
        "Os dados foram extraídos nesse formato para podermos usar o DatFrame do Pandas de forma mais eficiente."
      ],
      "metadata": {
        "id": "SJApEV7ZHNld"
      }
    },
    {
      "cell_type": "code",
      "source": [
        "#"
      ],
      "metadata": {
        "id": "_F7e8hnoDVid"
      },
      "execution_count": 7,
      "outputs": []
    },
    {
      "cell_type": "markdown",
      "source": [
        "# **Aula3:**"
      ],
      "metadata": {
        "id": "Xe1o_OOsDYbv"
      }
    },
    {
      "cell_type": "markdown",
      "source": [
        "## **Pandas:**\n",
        "Pandas é uma biblioteca de processamento e análise de dados mais utilizada no mundo.\n",
        "\n",
        "O pandas possui uma abstração muito funcional que é o dataframe (tabelas)."
      ],
      "metadata": {
        "id": "hhpsSW8-Das9"
      }
    },
    {
      "cell_type": "code",
      "source": [],
      "metadata": {
        "id": "vMADQdUfG6mJ"
      },
      "execution_count": null,
      "outputs": []
    },
    {
      "cell_type": "code",
      "source": [
        "import pandas as pd"
      ],
      "metadata": {
        "id": "sK25z4DrGu6h"
      },
      "execution_count": 9,
      "outputs": []
    },
    {
      "cell_type": "markdown",
      "source": [
        "## **DataFrame**:\n",
        "É uma abstração de uma tabela bidimensional indexada, sendo um método do Pandas.\n",
        "\n",
        "O DataFrame possui diversos métodos como:\n",
        "- head(quantidade_linhas) exibirá a quantidade de linhas desejada do começo da tabela\n",
        "- tail(quantidade_linhas) exibirá a quantodade de linhas desehada do fim da tabela;"
      ],
      "metadata": {
        "id": "ps9mLNrFG20z"
      }
    },
    {
      "cell_type": "code",
      "source": [
        "#Inicializa a variável votes_table com o retorno do método DataFrame(dicionário), onde estará \n",
        "#contido o objeto DataFrame\n",
        "votes_table = pd.DataFrame(votes)\n",
        "\n",
        "#Exibe a tabela\n",
        "print(votes_table)\n",
        "\n",
        "#Atributo que conteém a quatidade de linhas e colunas da tabela\n",
        "votes_table.shape\n",
        "\n",
        "#Método que fará a conversão do objeto contido na variável votes_table em um arquivo CSV\n",
        "votes_table.to_csv(\"rdv.csv\", header = True, index = False)"
      ],
      "metadata": {
        "colab": {
          "base_uri": "https://localhost:8080/"
        },
        "id": "d4qQlEI2HVMH",
        "outputId": "31c0bc47-8c73-44c5-8aa9-3b37cf6c3554"
      },
      "execution_count": 13,
      "outputs": [
        {
          "output_type": "stream",
          "name": "stdout",
          "text": [
            "     voto  quantidade\n",
            "0      13           1\n",
            "1      13           1\n",
            "2      13           1\n",
            "3      13           1\n",
            "4      13           1\n",
            "..    ...         ...\n",
            "325  nulo           1\n",
            "326  nulo           1\n",
            "327  nulo           1\n",
            "328  nulo           1\n",
            "329  nulo           1\n",
            "\n",
            "[330 rows x 2 columns]\n"
          ]
        }
      ]
    },
    {
      "cell_type": "markdown",
      "source": [
        "## **Agregação:**\n",
        "Etapa de agregação de dados via operação de soma do Pandas"
      ],
      "metadata": {
        "id": "XP-UwiDPJcYr"
      }
    },
    {
      "cell_type": "code",
      "source": [
        "#Declaração de variável que receberá a tabela agregada da evocação aninhada dos métodos \n",
        "#groupby(arg), quefará o agrupamento pela coluna da tabela votes_table, e a agregação da soma da \n",
        "#coluna subsequente. O método reset_index() excuta o reset do index, fazendo iniciar do valor 0\n",
        "votes_table_agg = votes_table.groupby(\"voto\").agg(\"sum\").reset_index()\n",
        "\n",
        "#Exibição da tabela contida em votes_table_agg\n",
        "print(votes_table_agg)"
      ],
      "metadata": {
        "colab": {
          "base_uri": "https://localhost:8080/"
        },
        "id": "Z6SNcZxhKRls",
        "outputId": "ff6d7307-ad41-478e-eefb-e16ae97983ff"
      },
      "execution_count": 14,
      "outputs": [
        {
          "output_type": "stream",
          "name": "stdout",
          "text": [
            "     voto  quantidade\n",
            "0      13         162\n",
            "1      22         143\n",
            "2  branco           8\n",
            "3    nulo          17\n"
          ]
        }
      ]
    },
    {
      "cell_type": "markdown",
      "source": [
        "Podemos realizar ordenções usando os métodos abaixo"
      ],
      "metadata": {
        "id": "onVTX2dVLjB1"
      }
    },
    {
      "cell_type": "code",
      "source": [
        "#A variável votes_table_agg recebe o retorno do método evocado pela própria variável denominado \n",
        "#sort_values() onde recebe o argumento de qual coluna será ordenada e se seá crescente ou \n",
        "#decrescente\n",
        "votes_table_agg = votes_table_agg.sort_values(by = \"quantidade\", ascending = False)\n",
        "\n",
        "#Exibição da tabela contida em votes_table_agg\n",
        "print(votes_table_agg)"
      ],
      "metadata": {
        "colab": {
          "base_uri": "https://localhost:8080/"
        },
        "id": "tetkg2yEMhuC",
        "outputId": "efff9cf4-e466-4385-9f54-a11b0607d84a"
      },
      "execution_count": 15,
      "outputs": [
        {
          "output_type": "stream",
          "name": "stdout",
          "text": [
            "     voto  quantidade\n",
            "0      13         162\n",
            "1      22         143\n",
            "3    nulo          17\n",
            "2  branco           8\n"
          ]
        }
      ]
    },
    {
      "cell_type": "markdown",
      "source": [
        "É possível incluir uma coluna com dados relativos (porcentagens)"
      ],
      "metadata": {
        "id": "30ZuuoG8NKG-"
      }
    },
    {
      "cell_type": "code",
      "source": [
        "#A variável votes_table_agg quando aliada a [\"nome\"] é criada uma coluna com nome definido e é \n",
        "#atribuído o retorno do método round que receberá a chamada dos dados da tabela pelo seu nome \n",
        "#(simiar a um array) e realizada a expressão matemática. O Round será com duas casa decimais\n",
        "votes_table_agg['quantidade_pct'] = round(100 * \n",
        "                                          (votes_table_agg['quantidade'] / \n",
        "                                           votes_table_agg['quantidade'].sum()), \n",
        "                                          2)\n",
        "#Exibição da tabela contida em votes_table_agg\n",
        "print(votes_table_agg)"
      ],
      "metadata": {
        "colab": {
          "base_uri": "https://localhost:8080/"
        },
        "id": "AWHKtDJgNSF-",
        "outputId": "5e57aa19-6850-46c8-962c-d437a9c75889"
      },
      "execution_count": 16,
      "outputs": [
        {
          "output_type": "stream",
          "name": "stdout",
          "text": [
            "     voto  quantidade  quantidade_pct\n",
            "0      13         162           49.09\n",
            "1      22         143           43.33\n",
            "3    nulo          17            5.15\n",
            "2  branco           8            2.42\n"
          ]
        }
      ]
    }
  ]
}