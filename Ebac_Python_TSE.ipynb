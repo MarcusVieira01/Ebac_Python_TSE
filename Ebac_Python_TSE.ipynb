{
  "nbformat": 4,
  "nbformat_minor": 0,
  "metadata": {
    "colab": {
      "provenance": [],
      "collapsed_sections": [
        "5ftR7toXzhxD",
        "pW-QgM4f6-qW"
      ],
      "toc_visible": true,
      "authorship_tag": "ABX9TyM3wmbHj3pbLDyWH3nl4PDr",
      "include_colab_link": true
    },
    "kernelspec": {
      "name": "python3",
      "display_name": "Python 3"
    },
    "language_info": {
      "name": "python"
    }
  },
  "cells": [
    {
      "cell_type": "markdown",
      "metadata": {
        "id": "view-in-github",
        "colab_type": "text"
      },
      "source": [
        "<a href=\"https://colab.research.google.com/github/MarcusVieira01/Ebac_Python_TSE/blob/main/Ebac_Python_TSE.ipynb\" target=\"_parent\"><img src=\"https://colab.research.google.com/assets/colab-badge.svg\" alt=\"Open In Colab\"/></a>"
      ]
    },
    {
      "cell_type": "markdown",
      "source": [
        "# **Aula 1: Contexto e objetivo**\n",
        "\n",
        "\n",
        "\n"
      ],
      "metadata": {
        "id": "5ftR7toXzhxD"
      }
    },
    {
      "cell_type": "markdown",
      "source": [
        "## **Objetivo**:\n",
        "Usar o Python para analisar o arquivo RDV e replicar os dados obtidos pelo TSE, fazendo uma validação dos dados disponibilizados via site e via arquivo. Os dados serão cruzados com o Boletim de Urna também, para uma validação cruzada.\n",
        "\n",
        "Os dados utilizados será o arquivo RDV com os dados dos votos para presidente no segundo turno."
      ],
      "metadata": {
        "id": "VE_itD2pW4vy"
      }
    },
    {
      "cell_type": "markdown",
      "source": [
        "## **Análise de dados disponibilizados oficialmente pelo TSE:**\n",
        "O TSE fez a liberação de alguns dados sobre cada urna eleitoral usada em 2022. Temos 3 tipos de dados para cada urna:\n",
        "\n",
        "- **RDV:** Registro Digital do Voto contendo o registro unitário de votos por urna e grupo (Presidente e Governador no caso do 2º Turno);\n",
        "- **Boletim de Urna:** Dado agregado por candidato;\n",
        "- **LOG de Urna:** Eventos temporais de todas as ações específicas da urna;\n",
        "\n",
        "A documentação é disposta no site do [TSE](https://www.tse.jus.br/eleicoes/eleicoes-2022/documentacao-tecnica-do-software-da-urna-eletronica).\n",
        "\n",
        "\n",
        "\n",
        "\n"
      ],
      "metadata": {
        "id": "esO7Dlq00INg"
      }
    },
    {
      "cell_type": "markdown",
      "source": [
        "## **Seleção dos dados:**\n",
        "Para termos acesso aos 3 arquivos, devemos selecionar o local desejado (Estado e município), a Zona e a Seção Eleitoral. Inicialmente são exibidos os valores dos arquivos formatados em página HTML, mas podemos baixar os arquivos brutos.\n"
      ],
      "metadata": {
        "id": "XrCdbBLOW0Mr"
      }
    },
    {
      "cell_type": "markdown",
      "source": [
        "## **Exemplo de uso da célula de código:**"
      ],
      "metadata": {
        "id": "ghc3FesoWnFU"
      }
    },
    {
      "cell_type": "code",
      "source": [
        "print(\"Olá Mundo!\")"
      ],
      "metadata": {
        "colab": {
          "base_uri": "https://localhost:8080/"
        },
        "id": "XWxzzKuC616H",
        "outputId": "02da97c8-09f6-415a-e68b-8f8ab637f935"
      },
      "execution_count": 1,
      "outputs": [
        {
          "output_type": "stream",
          "name": "stdout",
          "text": [
            "Olá Mundo!\n"
          ]
        }
      ]
    },
    {
      "cell_type": "markdown",
      "source": [
        "# **Aula 2: Exploração**"
      ],
      "metadata": {
        "id": "pW-QgM4f6-qW"
      }
    },
    {
      "cell_type": "markdown",
      "source": [
        "## **Upload de arquivo RDV:**\n",
        "Faremos o upload no Google Colab do arquivo RDV extraído do site do TSE.\n",
        "\n",
        "## **Criptografia do arquivo RDV**\n",
        "O arquivo baixado está criptografado, havendo necessidade de usarmos uma chave para descriptografar.\n",
        "\n",
        "Para tal descriptografia, usaremos os comandos abaixo:\n",
        "\n",
        "- Código de descrptografia:\n"
      ],
      "metadata": {
        "id": "PoErJaoY7DbD"
      }
    },
    {
      "cell_type": "code",
      "source": [
        "!curl -s https://raw.githubusercontent.com/andre-marcos-perez/ebac-course-utils/develop/notebooks/2022_11_29/rdv.py -o rdv.py"
      ],
      "metadata": {
        "id": "5gIqIfByMpTE"
      },
      "execution_count": 2,
      "outputs": []
    },
    {
      "cell_type": "markdown",
      "source": [
        "- Instalação do pacote de criptografia para o Python:"
      ],
      "metadata": {
        "id": "J1uxS1IeNB8S"
      }
    },
    {
      "cell_type": "code",
      "source": [
        "!pip install asn1crypto==1.5.1"
      ],
      "metadata": {
        "colab": {
          "base_uri": "https://localhost:8080/"
        },
        "id": "WPskd8alNGvH",
        "outputId": "65e17f0f-05e3-4cb4-c0ac-7041b11bbbf8"
      },
      "execution_count": 3,
      "outputs": [
        {
          "output_type": "stream",
          "name": "stdout",
          "text": [
            "Looking in indexes: https://pypi.org/simple, https://us-python.pkg.dev/colab-wheels/public/simple/\n",
            "Collecting asn1crypto==1.5.1\n",
            "  Downloading asn1crypto-1.5.1-py2.py3-none-any.whl (105 kB)\n",
            "\u001b[K     |████████████████████████████████| 105 kB 6.0 MB/s \n",
            "\u001b[?25hInstalling collected packages: asn1crypto\n",
            "Successfully installed asn1crypto-1.5.1\n"
          ]
        }
      ]
    },
    {
      "cell_type": "markdown",
      "source": [
        "- Executar a descriptogravia via comando abaixo, usando o nome do arquivo baixado Será gerado um novo arquivo extensão .txt:"
      ],
      "metadata": {
        "id": "5_kwx-zkNJy4"
      }
    },
    {
      "cell_type": "code",
      "source": [
        "!python rdv.py -r o00407-7107204180257.rdv > rdv.txt"
      ],
      "metadata": {
        "colab": {
          "base_uri": "https://localhost:8080/"
        },
        "id": "5wo_yjpzNO7W",
        "outputId": "ccbcd6f2-1ac7-43f9-9338-0e7384285039"
      },
      "execution_count": 4,
      "outputs": [
        {
          "output_type": "stream",
          "name": "stdout",
          "text": [
            "2022-12-16 23:13:35,008 - INFO - Converte RDV o00407-7107204180257.rdv\n"
          ]
        }
      ]
    },
    {
      "cell_type": "code",
      "source": [],
      "metadata": {
        "id": "5jxf-Vs0PgsN"
      },
      "execution_count": 4,
      "outputs": []
    },
    {
      "cell_type": "markdown",
      "source": [
        "O arquivo RDV não está organizado por ordem de voto, pois faz parte dos requisitos o voto ser anônimo e sua sequencia é misturada conforme o algoritmo da urna.\n"
      ],
      "metadata": {
        "id": "zibwZM99Pzzi"
      }
    },
    {
      "cell_type": "markdown",
      "source": [
        "## **Limpeza do arquivo RDV:**\n",
        "Precisamos remover os caracteres indesejados do arquivo rdv.txt para que possamos realizar a análise. No caso serão removidos todos os dados que não forem sobre os dados de Presidente.\n",
        "\n",
        "Usaremos o código abaixo para realizar a limpeza:"
      ],
      "metadata": {
        "id": "yGCNe57EQnS1"
      }
    },
    {
      "cell_type": "code",
      "source": [
        "#Declaração de array content que conterá os dados extraídos\n",
        "content = []\n",
        "\n",
        "#Abertura do arquivo rdv.txt, no modo de leitura e com alias fp. Via loop for, será lida linha por \n",
        "#linha e comparado via condicional. Se o condicional for true, ou seja, chegar no trecho de \n",
        "# governador, o loop será encerrado. Enquanto false, cada linha será incluída no array\n",
        "with open(file=\"rdv.txt\", mode=\"r\") as fp:\n",
        "  for line in fp.readlines():\n",
        "    if \"Governador\" in line:\n",
        "      break\n",
        "    else:\n",
        "      content.append(line) \n",
        "\n",
        "#Exibe de forma concatenada a quantidade de elementos do array content\n",
        "print(str(len(content)) + \" elementos\")\n",
        "\n",
        "#Exibe os 10 primeiros elementos do array content\n",
        "for line in content[0:10]:\n",
        "    print(line)"
      ],
      "metadata": {
        "colab": {
          "base_uri": "https://localhost:8080/"
        },
        "id": "NJOIl0a1Q_Yw",
        "outputId": "66f8d722-1b1c-4d27-efe1-7993c88ee9ab"
      },
      "execution_count": 5,
      "outputs": [
        {
          "output_type": "stream",
          "name": "stdout",
          "text": [
            "334 elementos\n",
            "========================================\n",
            "\n",
            "----------------------------------------\n",
            "\n",
            "Presidente\n",
            "\n",
            "  1 - nominal  - [13]\n",
            "\n",
            "  2 - nominal  - [13]\n",
            "\n",
            "  3 - nominal  - [13]\n",
            "\n",
            "  4 - nominal  - [13]\n",
            "\n",
            "  5 - nominal  - [13]\n",
            "\n",
            "  6 - nominal  - [13]\n",
            "\n",
            "  7 - nominal  - [13]\n",
            "\n"
          ]
        }
      ]
    },
    {
      "cell_type": "markdown",
      "source": [
        "## **Extração:**##\n",
        "A extração dá-se usando uma forma de parse, que seria via palavra chave. Se a linha contiver a palavra desejada, será incluído um elemento no array declarado com o dicionário abaixo:\n",
        "```\n",
        "{\"voto\" : \"palavra_desejada\", \"quantidade\" : 1}\n",
        "```\n",
        "Há uma exceção quando o voto é nominal, pois haverá um tratamento para qual candidato o voto foi incluído.\n",
        "\n",
        "Script de limpeza:\n"
      ],
      "metadata": {
        "id": "Iyyzw0dPS6jz"
      }
    },
    {
      "cell_type": "code",
      "source": [
        "#Importação da biblioteca de REGEX re\n",
        "import re\n",
        "\n",
        "#Definição de pattern REGEX para que consiga ler o candidato do arquivo rdv.txt\n",
        "pattern = re.compile(pattern=\"\\[(.*?)\\]\")\n",
        "\n",
        "#Declaração de array\n",
        "votes = []\n",
        "\n",
        "#Loop for que para cada elemento do array content, será realizado o condicional simples sequencial\n",
        "for line in content:\n",
        "    #Condicional que true, será incluído o elemento abaixo, definindo um voto branco\n",
        "    if \"branco\" in line:\n",
        "        votes.append({\"voto\":\"branco\", \"quantidade\":1})\n",
        "    #Condicional que true, será incluído o elemento abaixo, definindo um voto nulo\n",
        "    if \"nulo\" in line:\n",
        "        votes.append({\"voto\":\"nulo\", \"quantidade\":1})\n",
        "    #Condicional que true, será incluído o elemento abaixo, definindo um voto em candidato e será\n",
        "    #evocado o método .findall(padrão, string) do objeto re, e atribuído o índice 0 do array de \n",
        "    #à variável vote. Será evocado o método append, que fará a inclusão do elemento no array votes\n",
        "    # do dicionario declarado\n",
        "    if \"nominal\" in line:\n",
        "        vote = re.findall(pattern=pattern, string=line)[0]\n",
        "        votes.append({\"voto\": f\"{vote}\", \"quantidade\":1})\n",
        "\n",
        "#Será exibido de forma concatenada a quantidade de votos parseados\n",
        "print(str(len(votes)) + \" votos\")\n",
        "\n",
        "#Serão exibidos os 10 primeiros votos\n",
        "for vote in votes[0:10]:\n",
        "  print(vote)\n"
      ],
      "metadata": {
        "colab": {
          "base_uri": "https://localhost:8080/"
        },
        "id": "iFDW5UqvTz1F",
        "outputId": "7f7c1c53-2c3b-464a-95bd-2e440c46fb84"
      },
      "execution_count": 6,
      "outputs": [
        {
          "output_type": "stream",
          "name": "stdout",
          "text": [
            "330 votos\n",
            "{'voto': '13', 'quantidade': 1}\n",
            "{'voto': '13', 'quantidade': 1}\n",
            "{'voto': '13', 'quantidade': 1}\n",
            "{'voto': '13', 'quantidade': 1}\n",
            "{'voto': '13', 'quantidade': 1}\n",
            "{'voto': '13', 'quantidade': 1}\n",
            "{'voto': '13', 'quantidade': 1}\n",
            "{'voto': '13', 'quantidade': 1}\n",
            "{'voto': '13', 'quantidade': 1}\n",
            "{'voto': '13', 'quantidade': 1}\n"
          ]
        }
      ]
    },
    {
      "cell_type": "markdown",
      "source": [
        "Os dados foram extraídos nesse formato para podermos usar o DatFrame do Pandas de forma mais eficiente."
      ],
      "metadata": {
        "id": "SJApEV7ZHNld"
      }
    },
    {
      "cell_type": "code",
      "source": [
        "#"
      ],
      "metadata": {
        "id": "_F7e8hnoDVid"
      },
      "execution_count": 7,
      "outputs": []
    },
    {
      "cell_type": "markdown",
      "source": [
        "# **Aula 3: Agregação**"
      ],
      "metadata": {
        "id": "Xe1o_OOsDYbv"
      }
    },
    {
      "cell_type": "markdown",
      "source": [
        "## **Pandas:**\n",
        "Pandas é uma biblioteca de processamento e análise de dados mais utilizada no mundo.\n",
        "\n",
        "O pandas possui uma abstração muito funcional que é o dataframe (tabelas)."
      ],
      "metadata": {
        "id": "hhpsSW8-Das9"
      }
    },
    {
      "cell_type": "code",
      "source": [],
      "metadata": {
        "id": "vMADQdUfG6mJ"
      },
      "execution_count": 7,
      "outputs": []
    },
    {
      "cell_type": "code",
      "source": [
        "import pandas as pd"
      ],
      "metadata": {
        "id": "sK25z4DrGu6h"
      },
      "execution_count": 8,
      "outputs": []
    },
    {
      "cell_type": "markdown",
      "source": [
        "## **DataFrame**:\n",
        "É uma abstração de uma tabela bidimensional indexada, sendo um método do Pandas.\n",
        "\n",
        "O DataFrame possui diversos métodos como:\n",
        "- head(quantidade_linhas) exibirá a quantidade de linhas desejada do começo da tabela\n",
        "- tail(quantidade_linhas) exibirá a quantodade de linhas desehada do fim da tabela;"
      ],
      "metadata": {
        "id": "ps9mLNrFG20z"
      }
    },
    {
      "cell_type": "code",
      "source": [
        "#Inicializa a variável votes_table com o retorno do método DataFrame(dicionário), onde estará \n",
        "#contido o objeto DataFrame\n",
        "votes_table = pd.DataFrame(votes)\n",
        "\n",
        "#Exibe a tabela\n",
        "print(votes_table)\n",
        "\n",
        "#Atributo que conteém a quatidade de linhas e colunas da tabela\n",
        "votes_table.shape\n",
        "\n",
        "#Método que fará a conversão do objeto contido na variável votes_table em um arquivo CSV\n",
        "votes_table.to_csv(\"rdv.csv\", header = True, index = False)"
      ],
      "metadata": {
        "colab": {
          "base_uri": "https://localhost:8080/"
        },
        "id": "d4qQlEI2HVMH",
        "outputId": "4ce13cb2-5fe3-47c5-8b60-7875a456c3af"
      },
      "execution_count": 9,
      "outputs": [
        {
          "output_type": "stream",
          "name": "stdout",
          "text": [
            "     voto  quantidade\n",
            "0      13           1\n",
            "1      13           1\n",
            "2      13           1\n",
            "3      13           1\n",
            "4      13           1\n",
            "..    ...         ...\n",
            "325  nulo           1\n",
            "326  nulo           1\n",
            "327  nulo           1\n",
            "328  nulo           1\n",
            "329  nulo           1\n",
            "\n",
            "[330 rows x 2 columns]\n"
          ]
        }
      ]
    },
    {
      "cell_type": "markdown",
      "source": [
        "## **Agregação:**\n",
        "Etapa de agregação de dados via operação de soma do Pandas"
      ],
      "metadata": {
        "id": "XP-UwiDPJcYr"
      }
    },
    {
      "cell_type": "code",
      "source": [
        "#Declaração de variável que receberá a tabela agregada da evocação aninhada dos métodos \n",
        "#groupby(arg), quefará o agrupamento pela coluna da tabela votes_table, e a agregação da soma da \n",
        "#coluna subsequente. O método reset_index() excuta o reset do index, fazendo iniciar do valor 0\n",
        "votes_table_agg = votes_table.groupby(\"voto\").agg(\"sum\").reset_index()\n",
        "\n",
        "#Exibição da tabela contida em votes_table_agg\n",
        "print(votes_table_agg)"
      ],
      "metadata": {
        "colab": {
          "base_uri": "https://localhost:8080/"
        },
        "id": "Z6SNcZxhKRls",
        "outputId": "4b4a99f8-e925-41d4-abc6-fe97e9e85f90"
      },
      "execution_count": 10,
      "outputs": [
        {
          "output_type": "stream",
          "name": "stdout",
          "text": [
            "     voto  quantidade\n",
            "0      13         162\n",
            "1      22         143\n",
            "2  branco           8\n",
            "3    nulo          17\n"
          ]
        }
      ]
    },
    {
      "cell_type": "markdown",
      "source": [
        "Podemos realizar ordenções usando os métodos abaixo"
      ],
      "metadata": {
        "id": "onVTX2dVLjB1"
      }
    },
    {
      "cell_type": "code",
      "source": [
        "#A variável votes_table_agg recebe o retorno do método evocado pela própria variável denominado \n",
        "#sort_values() onde recebe o argumento de qual coluna será ordenada e se seá crescente ou \n",
        "#decrescente\n",
        "votes_table_agg = votes_table_agg.sort_values(by = \"quantidade\", ascending = False)\n",
        "\n",
        "#Exibição da tabela contida em votes_table_agg\n",
        "print(votes_table_agg)"
      ],
      "metadata": {
        "colab": {
          "base_uri": "https://localhost:8080/"
        },
        "id": "tetkg2yEMhuC",
        "outputId": "8e717094-3c5e-455c-b829-4043e0758a91"
      },
      "execution_count": 11,
      "outputs": [
        {
          "output_type": "stream",
          "name": "stdout",
          "text": [
            "     voto  quantidade\n",
            "0      13         162\n",
            "1      22         143\n",
            "3    nulo          17\n",
            "2  branco           8\n"
          ]
        }
      ]
    },
    {
      "cell_type": "markdown",
      "source": [
        "É possível incluir uma coluna com dados relativos (porcentagens)"
      ],
      "metadata": {
        "id": "30ZuuoG8NKG-"
      }
    },
    {
      "cell_type": "code",
      "source": [
        "#A variável votes_table_agg quando aliada a [\"nome\"] é criada uma coluna com nome definido e é \n",
        "#atribuído o retorno do método round que receberá a chamada dos dados da tabela pelo seu nome \n",
        "#(simiar a um array) e realizada a expressão matemática. O Round será com duas casa decimais\n",
        "votes_table_agg['quantidade_pct'] = round(100 * \n",
        "                                          (votes_table_agg['quantidade'] / \n",
        "                                           votes_table_agg['quantidade'].sum()), \n",
        "                                          2)\n",
        "#Exibição da tabela contida em votes_table_agg\n",
        "print(votes_table_agg)"
      ],
      "metadata": {
        "colab": {
          "base_uri": "https://localhost:8080/"
        },
        "id": "AWHKtDJgNSF-",
        "outputId": "4219c1f6-9e89-4537-f867-b260a1ab2343"
      },
      "execution_count": 12,
      "outputs": [
        {
          "output_type": "stream",
          "name": "stdout",
          "text": [
            "     voto  quantidade  quantidade_pct\n",
            "0      13         162           49.09\n",
            "1      22         143           43.33\n",
            "3    nulo          17            5.15\n",
            "2  branco           8            2.42\n"
          ]
        }
      ]
    },
    {
      "cell_type": "markdown",
      "source": [
        "# **Aula 4: Análisando dados** "
      ],
      "metadata": {
        "id": "Hy0i929GN3Y-"
      }
    },
    {
      "cell_type": "markdown",
      "source": [
        "## Visualização de dados:\n",
        "O SeaBorn é um pacote externo que possui diversas ferramentas de visualização de dados, sendo o mais usado no mundo."
      ],
      "metadata": {
        "id": "HuNRLyXZOBcL"
      }
    },
    {
      "cell_type": "code",
      "source": [
        "# mportação de biblioteca externa\n",
        "import seaborn as sns\n",
        "\n",
        "# Declaração de variável e atribuição de valor de inicialização\n",
        "URNA = \"sp_sp_Z418_S257\""
      ],
      "metadata": {
        "id": "9aXUET2IOsSu"
      },
      "execution_count": 14,
      "outputs": []
    },
    {
      "cell_type": "markdown",
      "source": [
        "- Visualização da quantidade de votos absolutos:"
      ],
      "metadata": {
        "id": "5JqMI7N_PG6g"
      }
    },
    {
      "cell_type": "code",
      "source": [
        "# Declaração de variáveis e atribuição dos nomes das colunas da tabela extraida e agrupada contida\n",
        "# na variável vote_table_agg\n",
        "x_column = 'voto'\n",
        "y_column = 'quantidade'\n",
        "\n",
        "# Declaração de variáveis e atribuição de valores, sendo o título do gráfico e etiquetas dos eixos\n",
        "# x e y\n",
        "title = f'Apuração Presidente - Segundo Turno 2022 {URNA}'\n",
        "x_label = \"Voto\"\n",
        "y_label = 'Quantidade'\n",
        "\n",
        "# Definição do estilo do gráfico\n",
        "with sns.axes_style('whitegrid'):\n",
        "    # Declaração de variável e atribuição do objeto retornado do método .barplot(args)\n",
        "    chart = sns.barplot(data=votes_table_agg, x = x_column, y = y_column)\n",
        "    # Evocação do método .set(args), que fará a plotagem do gráfico\n",
        "    chart.set(title = title, xlabel = x_label, ylabel = y_label);\n"
      ],
      "metadata": {
        "colab": {
          "base_uri": "https://localhost:8080/",
          "height": 295
        },
        "id": "Cg-2NAS_PLqg",
        "outputId": "25ea1f81-936a-4288-b24c-46f2b144634b"
      },
      "execution_count": 15,
      "outputs": [
        {
          "output_type": "display_data",
          "data": {
            "text/plain": [
              "<Figure size 432x288 with 1 Axes>"
            ],
            "image/png": "[encoded data removed]"
          },
          "metadata": {}
        }
      ]
    },
    {
      "cell_type": "markdown",
      "source": [
        "- Visualização da quantidade de votos relativos:"
      ],
      "metadata": {
        "id": "uMZzPIfDR64A"
      }
    },
    {
      "cell_type": "code",
      "source": [
        "# Modificações nas variáveis de configuração para usar a porcentagem como parâmetro de análise\n",
        "# Declaração de variáveis e atribuição dos nomes das colunas da tabela extraida e agrupada contida\n",
        "# na variável vote_table_agg\n",
        "x_column = 'voto'\n",
        "y_column = 'quantidade_pct'\n",
        "\n",
        "# Declaração de variáveis e atribuição de valores, sendo o título do gráfico e etiquetas dos eixos\n",
        "# x e y\n",
        "title = f'Apuração Presidente - Segundo turno 2022 {URNA}'\n",
        "x_label = 'Voto'\n",
        "y_label = 'Porcentagem'\n",
        "\n",
        "# Definição do estilo do gráfico\n",
        "with sns.axes_style('whitegrid'):\n",
        "    # Declaração de variável e atribuição do objeto retornado do método .barplot(args)\n",
        "    chart = sns.barplot(data=votes_table_agg, x = x_column, y = y_column)\n",
        "    # Evocação do método .set(args), que fará a plotagem do gráfico\n",
        "    chart.set(title = title, xlabel = x_label, ylabel = y_label);\n"
      ],
      "metadata": {
        "colab": {
          "base_uri": "https://localhost:8080/",
          "height": 295
        },
        "id": "ZhoGRSJJSGfr",
        "outputId": "be3a1eee-02ad-4251-b19e-cfe675de406a"
      },
      "execution_count": 16,
      "outputs": [
        {
          "output_type": "display_data",
          "data": {
            "text/plain": [
              "<Figure size 432x288 with 1 Axes>"
            ],
            "image/png": "[encoded data removed]"
          },
          "metadata": {}
        }
      ]
    },
    {
      "cell_type": "markdown",
      "source": [
        "# **Aula 5: Divulgação**"
      ],
      "metadata": {
        "id": "5JF02BcoT1ur"
      }
    },
    {
      "cell_type": "markdown",
      "source": [
        "## Kaggle:\n",
        "É uma comunicade de ciência de dados e aprendizado de máquina, permitindo que usuários encontrem e publiquem conjunto de dados, construam e compartilhem notebooks (Colab) e participem de competições."
      ],
      "metadata": {
        "id": "s7iwZnkIT52v"
      }
    }
  ]
}